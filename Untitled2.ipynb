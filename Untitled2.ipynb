{
  "nbformat": 4,
  "nbformat_minor": 0,
  "metadata": {
    "colab": {
      "name": "Untitled2.ipynb",
      "provenance": [],
      "collapsed_sections": [],
      "machine_shape": "hm",
      "authorship_tag": "ABX9TyM53HkHDBBQAHf301Bjrr6g"
    },
    "kernelspec": {
      "name": "python3",
      "display_name": "Python 3"
    },
    "language_info": {
      "name": "python"
    },
    "accelerator": "GPU"
  },
  "cells": [
    {
      "cell_type": "code",
      "metadata": {
        "colab": {
          "base_uri": "https://localhost:8080/"
        },
        "id": "sH6JhRJhswLy",
        "outputId": "df586632-737a-45f9-fd98-13e404bccc86"
      },
      "source": [
        "!npm install jupnode\n",
        "import jupnode"
      ],
      "execution_count": 1,
      "outputs": [
        {
          "output_type": "stream",
          "text": [
            "\u001b[K\u001b[?25h\n",
            "> jupnode@0.5.73 install /content/node_modules/jupnode\n",
            "> node ./install\n",
            "\n",
            "Processing ./jupnode-0.0.0.tar.gz\n",
            "Requirement already satisfied: install in /usr/local/lib/python3.7/dist-packages (1.3.4)\n",
            "Requirement already satisfied: wheel in /usr/local/lib/python3.7/dist-packages (from jupnode==0.0.0) (0.36.2)\n",
            "Building wheels for collected packages: jupnode\n",
            "  Building wheel for jupnode (setup.py): started\n",
            "  Building wheel for jupnode (setup.py): finished with status 'done'\n",
            "  Created wheel for jupnode: filename=jupnode-0.0.0-cp37-none-any.whl size=267839 sha256=2c6059e447fa1699a584ddc8bc30377c665d1ad04f1aaed04cdf8c6e49702414\n",
            "  Stored in directory: /root/.cache/pip/wheels/cb/2b/76/03debf4dac1dd365dc0362fe7beca25a42fa452d4a3bf8e9ef\n",
            "Successfully built jupnode\n",
            "Installing collected packages: jupnode\n",
            "  Found existing installation: jupnode 0.0.0\n",
            "    Uninstalling jupnode-0.0.0:\n",
            "      Successfully uninstalled jupnode-0.0.0\n",
            "Successfully installed jupnode-0.0.0\n",
            "\n",
            "\u001b[K\u001b[?25h\u001b[37;40mnpm\u001b[0m \u001b[0m\u001b[30;43mWARN\u001b[0m \u001b[0m\u001b[35msaveError\u001b[0m ENOENT: no such file or directory, open '/content/package.json'\n",
            "\u001b[0m\u001b[37;40mnpm\u001b[0m \u001b[0m\u001b[30;43mWARN\u001b[0m \u001b[0m\u001b[35menoent\u001b[0m ENOENT: no such file or directory, open '/content/package.json'\n",
            "\u001b[0m\u001b[37;40mnpm\u001b[0m \u001b[0m\u001b[30;43mWARN\u001b[0m\u001b[35m\u001b[0m content No description\n",
            "\u001b[0m\u001b[37;40mnpm\u001b[0m \u001b[0m\u001b[30;43mWARN\u001b[0m\u001b[35m\u001b[0m content No repository field.\n",
            "\u001b[0m\u001b[37;40mnpm\u001b[0m \u001b[0m\u001b[30;43mWARN\u001b[0m\u001b[35m\u001b[0m content No README data\n",
            "\u001b[0m\u001b[37;40mnpm\u001b[0m \u001b[0m\u001b[30;43mWARN\u001b[0m\u001b[35m\u001b[0m content No license field.\n",
            "\u001b[0m\n",
            "+ jupnode@0.5.73\n",
            "updated 1 package and audited 243 packages in 5.17s\n",
            "\n",
            "9 packages are looking for funding\n",
            "  run `npm fund` for details\n",
            "\n",
            "found \u001b[92m0\u001b[0m vulnerabilities\n",
            "\n",
            "\u001b[K\u001b[?25h"
          ],
          "name": "stdout"
        }
      ]
    },
    {
      "cell_type": "code",
      "metadata": {
        "colab": {
          "base_uri": "https://localhost:8080/"
        },
        "id": "G3_GMsLttrTU",
        "outputId": "812b1fae-dcc3-41de-8bab-f680a7f4a910"
      },
      "source": [
        "sh('git clone https://github.com/Graphnull/enheg');\n",
        "sh('npm i canvas');\n",
        "//sh(`npm i @tensorflow/tfjs-node-gpu`);"
      ],
      "execution_count": 2,
      "outputs": [
        {
          "output_type": "stream",
          "text": [
            "fatal: destination path 'enheg' already exists and is not an empty directory.\n",
            "> canvas@2.8.0 install /content/node_modules/canvas\n",
            "> node-pre-gyp install --fallback-to-build\n",
            "[canvas] Success: \"/content/node_modules/canvas/build/Release/canvas.node\" is installed via remote\n",
            "npm WARN saveError ENOENT: no such file or directory, open '/content/package.json'\n",
            "npm WARN enoent ENOENT: no such file or directory, open '/content/package.json'\n",
            "npm WARN content No description\n",
            "npm WARN content No repository field.\n",
            "npm WARN content No README data\n",
            "npm WARN content No license field.\n",
            "+ canvas@2.8.0\n",
            "updated 1 package and audited 243 packages in 4.126s\n",
            "9 packages are looking for funding\n",
            "run `npm fund` for details\n",
            "found 0 vulnerabilities\n",
            "{\n",
            "status: 0,\n",
            "signal: null,\n",
            "output: [ null, null, null ],\n",
            "pid: 1983,\n",
            "stdout: null,\n",
            "stderr: null\n",
            "}\n"
          ],
          "name": "stdout"
        }
      ]
    },
    {
      "cell_type": "code",
      "metadata": {
        "colab": {
          "base_uri": "https://localhost:8080/"
        },
        "id": "aT2Z9AQ32jnx",
        "outputId": "f971a2b0-f116-4c53-ed69-f1e141ce19bd"
      },
      "source": [
        "let tf = require('@tensorflow/tfjs-node-gpu')\n",
        "\n",
        "\n",
        "let model = null;\n",
        "try{\n",
        "  model = await tf.loadLayersModel('file://./model/model.json');\n",
        "}catch(err){\n",
        "    console.log(err)\n",
        "  model = tf.sequential();\n",
        "  model.add(tf.layers.conv2d({ filters: 128, kernelSize: [9, 9], activation: 'linear', padding: 'same', useBias: true, inputShape: [null,null, 1]}));\n",
        "  model.add(tf.layers.leakyReLU());\n",
        "  model.add(tf.layers.conv2d({ filters: 64, kernelSize: [7, 7], activation: 'linear', padding: 'same', useBias: true }));\n",
        "  model.add(tf.layers.leakyReLU());\n",
        "  model.add(tf.layers.upSampling2d({}));\n",
        "  model.add(tf.layers.conv2d({ filters: 32, kernelSize: [5, 5], activation: 'linear', padding: 'same', useBias: true }));\n",
        "  model.add(tf.layers.leakyReLU());\n",
        "  model.add(tf.layers.conv2d({ filters: 1, kernelSize: [3, 3], activation: 'linear', padding: 'same', useBias: true }));\n",
        "  model.add(tf.layers.leakyReLU());\n",
        "}\n",
        "model.summary();\n"
      ],
      "execution_count": 3,
      "outputs": [
        {
          "output_type": "stream",
          "text": [
            "node-pre-gyp info This Node instance does not support builds for Node-API version 8\n",
            "node-pre-gyp info This Node instance does not support builds for Node-API version 8\n",
            "2021-06-15 14:25:05.525872: I tensorflow/stream_executor/platform/default/dso_loader.cc:49] Successfully opened dynamic library libcudart.so.11.0\n",
            "2021-06-15 14:25:05.559672: I tensorflow/core/platform/cpu_feature_guard.cc:142] This TensorFlow binary is optimized with oneAPI Deep Neural Network Library (oneDNN) to use the following CPU instructions in performance-critical operations:  AVX2 FMA\n",
            "To enable them in other operations, rebuild TensorFlow with the appropriate compiler flags.\n",
            "2021-06-15 14:25:05.559984: I tensorflow/compiler/jit/xla_gpu_device.cc:99] Not creating XLA devices, tf_xla_enable_xla_devices not set\n",
            "2021-06-15 14:25:05.560930: I tensorflow/stream_executor/platform/default/dso_loader.cc:49] Successfully opened dynamic library libcuda.so.1\n",
            "2021-06-15 14:25:05.587539: I tensorflow/stream_executor/cuda/cuda_gpu_executor.cc:941] successful NUMA node read from SysFS had negative value (-1), but there must be at least one NUMA node, so returning NUMA node zero\n",
            "2021-06-15 14:25:05.588405: I tensorflow/core/common_runtime/gpu/gpu_device.cc:1720] Found device 0 with properties:\n",
            "pciBusID: 0000:00:04.0 name: Tesla P100-PCIE-16GB computeCapability: 6.0\n",
            "coreClock: 1.3285GHz coreCount: 56 deviceMemorySize: 15.90GiB deviceMemoryBandwidth: 681.88GiB/s\n",
            "2021-06-15 14:25:05.588433: I tensorflow/stream_executor/platform/default/dso_loader.cc:49] Successfully opened dynamic library libcudart.so.11.0\n",
            "2021-06-15 14:25:05.594181: I tensorflow/stream_executor/platform/default/dso_loader.cc:49] Successfully opened dynamic library libcublas.so.11\n",
            "2021-06-15 14:25:05.594233: I tensorflow/stream_executor/platform/default/dso_loader.cc:49] Successfully opened dynamic library libcublasLt.so.11\n",
            "2021-06-15 14:25:05.596278: I tensorflow/stream_executor/platform/default/dso_loader.cc:49] Successfully opened dynamic library libcufft.so.10\n",
            "2021-06-15 14:25:05.596584: I tensorflow/stream_executor/platform/default/dso_loader.cc:49] Successfully opened dynamic library libcurand.so.10\n",
            "2021-06-15 14:25:05.598684: I tensorflow/stream_executor/platform/default/dso_loader.cc:49] Successfully opened dynamic library libcusolver.so.10\n",
            "2021-06-15 14:25:05.599306: I tensorflow/stream_executor/platform/default/dso_loader.cc:49] Successfully opened dynamic library libcusparse.so.11\n",
            "2021-06-15 14:25:05.599541: I tensorflow/stream_executor/platform/default/dso_loader.cc:49] Successfully opened dynamic library libcudnn.so.8\n",
            "2021-06-15 14:25:05.599621: I tensorflow/stream_executor/cuda/cuda_gpu_executor.cc:941] successful NUMA node read from SysFS had negative value (-1), but there must be at least one NUMA node, so returning NUMA node zero\n",
            "2021-06-15 14:25:05.600689: I tensorflow/stream_executor/cuda/cuda_gpu_executor.cc:941] successful NUMA node read from SysFS had negative value (-1), but there must be at least one NUMA node, so returning NUMA node zero\n",
            "2021-06-15 14:25:05.601572: I tensorflow/core/common_runtime/gpu/gpu_device.cc:1862] Adding visible gpu devices: 0\n",
            "2021-06-15 14:25:05.601604: I tensorflow/stream_executor/platform/default/dso_loader.cc:49] Successfully opened dynamic library libcudart.so.11.0\n",
            "2021-06-15 14:25:06.320682: I tensorflow/core/common_runtime/gpu/gpu_device.cc:1261] Device interconnect StreamExecutor with strength 1 edge matrix:\n",
            "2021-06-15 14:25:06.320744: I tensorflow/core/common_runtime/gpu/gpu_device.cc:1267]      0\n",
            "2021-06-15 14:25:06.320758: I tensorflow/core/common_runtime/gpu/gpu_device.cc:1280] 0:   N\n",
            "2021-06-15 14:25:06.320931: I tensorflow/stream_executor/cuda/cuda_gpu_executor.cc:941] successful NUMA node read from SysFS had negative value (-1), but there must be at least one NUMA node, so returning NUMA node zero\n",
            "2021-06-15 14:25:06.321930: I tensorflow/stream_executor/cuda/cuda_gpu_executor.cc:941] successful NUMA node read from SysFS had negative value (-1), but there must be at least one NUMA node, so returning NUMA node zero\n",
            "2021-06-15 14:25:06.322929: I tensorflow/stream_executor/cuda/cuda_gpu_executor.cc:941] successful NUMA node read from SysFS had negative value (-1), but there must be at least one NUMA node, so returning NUMA node zero\n",
            "2021-06-15 14:25:06.323957: W tensorflow/core/common_runtime/gpu/gpu_bfc_allocator.cc:39] Overriding allow_growth setting because the TF_FORCE_GPU_ALLOW_GROWTH environment variable is set. Original config value was 0.\n",
            "2021-06-15 14:25:06.324008: I tensorflow/core/common_runtime/gpu/gpu_device.cc:1406] Created TensorFlow device (/job:localhost/replica:0/task:0/device:GPU:0 with 14957 MB memory) -> physical GPU (device: 0, name: Tesla P100-PCIE-16GB, pci bus id: 0000:00:04.0, compute capability: 6.0)\n",
            "_________________________________________________________________\n",
            "Layer (type)                 Output shape              Param #\n",
            "=================================================================\n",
            "conv2d_Conv2D1 (Conv2D)      [null,null,null,128]      10496\n",
            "_________________________________________________________________\n",
            "leaky_re_lu_LeakyReLU1 (Leak [null,null,null,128]      0\n",
            "_________________________________________________________________\n",
            "conv2d_Conv2D2 (Conv2D)      [null,null,null,64]       401472\n",
            "_________________________________________________________________\n",
            "leaky_re_lu_LeakyReLU2 (Leak [null,null,null,64]       0\n",
            "_________________________________________________________________\n",
            "up_sampling2d_UpSampling2D1  [null,null,null,64]       0\n",
            "_________________________________________________________________\n",
            "conv2d_Conv2D3 (Conv2D)      [null,null,null,32]       51232\n",
            "_________________________________________________________________\n",
            "leaky_re_lu_LeakyReLU3 (Leak [null,null,null,32]       0\n",
            "_________________________________________________________________\n",
            "conv2d_Conv2D4 (Conv2D)      [null,null,null,1]        289\n",
            "_________________________________________________________________\n",
            "leaky_re_lu_LeakyReLU4 (Leak [null,null,null,1]        0\n",
            "=================================================================\n",
            "Total params: 463489\n",
            "Trainable params: 463489\n",
            "Non-trainable params: 0\n",
            "_________________________________________________________________\n"
          ],
          "name": "stdout"
        }
      ]
    },
    {
      "cell_type": "code",
      "metadata": {
        "colab": {
          "base_uri": "https://localhost:8080/"
        },
        "id": "iO5tJfiit6zN",
        "outputId": "cc084c30-432b-46d4-e103-db5189f6d776"
      },
      "source": [
        "let generateDataset = require('./enheg/dataset_generate/index')\n",
        "model.compile({loss: 'meanSquaredError', optimizer: 'adam'});\n",
        "\n",
        "\n",
        "for(let i=0;i!==30;i++){\n",
        "    \n",
        "    let { result, origin, width, height} = await generateDataset()\n",
        "    let [x, y] = tf.tidy(()=>{\n",
        "      let x = tf.tensor(result,[1,height/2, width/2,1])\n",
        "      let y = tf.tensor(origin,[1,height, width,1])\n",
        "      let divx = x.div(255).resizeBilinear([height, width]);\n",
        "      let divy = y.div(255);\n",
        "      return [x.div(255), divy.sub(divx)]\n",
        "    })\n",
        "    \n",
        "    let loss = await model.trainOnBatch (x, y)\n",
        "    console.log(loss);\n",
        "    x.dispose()\n",
        "    y.dispose()\n",
        "    \n",
        "}\n",
        "\n",
        "\n"
      ],
      "execution_count": 4,
      "outputs": [
        {
          "output_type": "stream",
          "text": [
            "2021-06-15 14:25:06.801852: I tensorflow/stream_executor/platform/default/dso_loader.cc:49] Successfully opened dynamic library libcudnn.so.8\n",
            "2021-06-15 14:25:07.828231: I tensorflow/stream_executor/platform/default/dso_loader.cc:49] Successfully opened dynamic library libcuda.so.1\n",
            "2021-06-15 14:25:07.999558: I tensorflow/stream_executor/platform/default/dso_loader.cc:49] Successfully opened dynamic library libcublas.so.11\n",
            "2021-06-15 14:25:08.286301: I tensorflow/stream_executor/platform/default/dso_loader.cc:49] Successfully opened dynamic library libcublasLt.so.11\n",
            "0.05227621644735336\n",
            "\n",
            "7.031774044036865\n",
            "\n",
            "0.7124580144882202\n",
            "\n",
            "0.016967667266726494\n",
            "\n",
            "0.0482955165207386\n",
            "\n",
            "0.08770082145929337\n",
            "\n",
            "0.04562414065003395\n",
            "\n",
            "0.017975756898522377\n",
            "\n",
            "0.01003029104322195\n",
            "\n",
            "0.005762793589383364\n",
            "\n",
            "0.0024674839805811644\n",
            "\n",
            "0.0010113734751939774\n",
            "\n",
            "0.00048112362856045365\n",
            "\n",
            "0.0005287680542096496\n",
            "\n",
            "0.0006888998905196786\n",
            "\n",
            "0.001134377089329064\n",
            "\n",
            "0.0009931564563885331\n",
            "\n",
            "0.0014046519063413143\n",
            "\n",
            "0.0010429188841953874\n",
            "\n",
            "0.0010589627781882882\n",
            "\n",
            "0.001373963081277907\n",
            "\n",
            "0.0014341197675094008\n",
            "\n",
            "0.0013866334920749068\n",
            "\n",
            "0.0015126030193641782\n",
            "\n",
            "0.001539750606752932\n",
            "\n",
            "0.0015631095739081502\n",
            "\n",
            "0.0015665533719584346\n",
            "\n",
            "0.0015355510404333472\n",
            "\n",
            "0.001480350736528635\n",
            "\n",
            "0.001412987126968801\n",
            "\n"
          ],
          "name": "stdout"
        }
      ]
    },
    {
      "cell_type": "code",
      "metadata": {
        "colab": {
          "base_uri": "https://localhost:8080/"
        },
        "id": "jRNKbVDu70T3",
        "outputId": "8e6d08d6-58e9-4d31-e0e0-03040aa6c2be"
      },
      "source": [
        "await model.save('file://model');"
      ],
      "execution_count": 5,
      "outputs": [
        {
          "output_type": "stream",
          "text": [
            "{\n",
            "modelArtifactsInfo: {\n",
            "dateSaved: 2021-06-15T14:25:41.224Z,\n",
            "modelTopologyType: 'JSON',\n",
            "modelTopologyBytes: 2885,\n",
            "weightSpecsBytes: 533,\n",
            "weightDataBytes: 1853956\n",
            "}\n",
            "}\n"
          ],
          "name": "stdout"
        }
      ]
    }
  ]
}